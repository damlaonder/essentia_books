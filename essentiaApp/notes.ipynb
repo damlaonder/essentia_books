{
 "cells": [
  {
   "cell_type": "code",
   "execution_count": null,
   "metadata": {},
   "outputs": [],
   "source": []
  },
  {
   "cell_type": "markdown",
   "metadata": {},
   "source": [
    "## username and password \n",
    "/d ---> check user \n",
    "\n",
    "create password: \n",
    "ALTER ROLE user_name \n",
    "WITH PASSWORD 'modified_password'"
   ]
  },
  {
   "cell_type": "markdown",
   "metadata": {},
   "source": [
    "## create music database \n",
    "\n",
    "create database essentia_music;\n",
    "drop table if exists essentia_music;\n",
    "CREATE TABLE essentia_music (spotify_id text PRIMARY KEY, track varchar (150) NOT NULL, album varchar (50) NOT NULL, artist varchar (50) NOT NULL, genre text, image text);\n",
    "\\COPY essentia_music FROM '/Users/damlaonder/Desktop/myfavsongs.csv' WITH CSV HEADER DELIMITER ',';\n",
    "\n",
    "\n",
    "\n",
    "create database essentia_books;\n",
    "drop table if exists essentia_books;\n",
    "CREATE TABLE essentia_books (book_id serial PRIMARY KEY, title varchar (150) NOT NULL, author varchar (50) NOT NULL, summary text NOT NULL, genre text NOT NULL, rank int, image text);\n",
    "\\COPY essentia_books FROM '/Users/damlaonder/Desktop/essentiaApp/myfavbooks.csv' WITH CSV HEADER DELIMITER ',';"
   ]
  }
 ],
 "metadata": {
  "language_info": {
   "name": "python"
  }
 },
 "nbformat": 4,
 "nbformat_minor": 2
}
