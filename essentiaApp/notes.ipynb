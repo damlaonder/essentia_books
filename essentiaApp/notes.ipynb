{
 "cells": [
  {
   "cell_type": "code",
   "execution_count": null,
   "metadata": {},
   "outputs": [],
   "source": []
  },
  {
   "cell_type": "markdown",
   "metadata": {},
   "source": [
    "### psql table for books\n",
    "drop table if exists essentia_books;\n",
    "CREATE TABLE essentia_books (book_id serial PRIMARY KEY, title varchar (150) NOT NULL, author varchar (50) NOT NULL, summary text NOT NULL, genre text NOT NULL, rank int, image text);\n",
    "\n",
    "\\COPY essentia_books FROM '/Users/damlaonder/Desktop/essentiaApp/myfavbooks.csv' WITH CSV HEADER DELIMITER ',';\n",
    "\n",
    "\n",
    "ALTER USER damlaonder\n",
    "WITH PASSWORD 'donder'\n",
    "psql -U damlaonder\n",
    "\n",
    "\n",
    "\n",
    "CREATE DATABASE essentia_books;\n",
    "\n",
    "export DB_USERNAME=\"damlaonder\"\n",
    "export DB_PASSWORD=\"donder\"\n",
    "\n",
    "{{ url_for('static',filename='styles/bootstrap.min.css') }}"
   ]
  },
  {
   "cell_type": "markdown",
   "metadata": {},
   "source": [
    "## create music database \n",
    "\n",
    "create database essentia_music;\n",
    "drop table if exists essentia_music;\n",
    "CREATE TABLE essentia_music (spotify_id text PRIMARY KEY, track varchar (150) NOT NULL, album varchar (50) NOT NULL, artist varchar (50) NOT NULL, genre text);\n",
    "\\COPY essentia_music FROM '/Users/damlaonder/Desktop/myfavsongs.csv' WITH CSV HEADER DELIMITER ',';\n",
    "\n",
    "\n",
    "\n",
    "create database essentia_books;\n",
    "drop table if exists essentia_books;\n",
    "CREATE TABLE essentia_books (book_id serial PRIMARY KEY, title varchar (150) NOT NULL, author varchar (50) NOT NULL, summary text NOT NULL, genre text NOT NULL, rank int, image text);\n",
    "\\COPY essentia_books FROM '/Users/damlaonder/Desktop/essentiaApp/myfavbooks.csv' WITH CSV HEADER DELIMITER ',';"
   ]
  }
 ],
 "metadata": {
  "language_info": {
   "name": "python"
  }
 },
 "nbformat": 4,
 "nbformat_minor": 2
}
